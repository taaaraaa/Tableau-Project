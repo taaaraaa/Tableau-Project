{
 "cells": [
  {
   "cell_type": "code",
   "execution_count": 67,
   "id": "9d0ad430",
   "metadata": {},
   "outputs": [],
   "source": [
    "import pandas as pd"
   ]
  },
  {
   "cell_type": "code",
   "execution_count": 68,
   "id": "8ebe803b",
   "metadata": {},
   "outputs": [],
   "source": [
    "df=pd.read_csv('..\\Project Files - Tableau - Option 2\\Clean-Output-V2.csv')"
   ]
  },
  {
   "cell_type": "code",
   "execution_count": 69,
   "id": "f396423b",
   "metadata": {
    "scrolled": false
   },
   "outputs": [
    {
     "data": {
      "text/html": [
       "<div>\n",
       "<style scoped>\n",
       "    .dataframe tbody tr th:only-of-type {\n",
       "        vertical-align: middle;\n",
       "    }\n",
       "\n",
       "    .dataframe tbody tr th {\n",
       "        vertical-align: top;\n",
       "    }\n",
       "\n",
       "    .dataframe thead th {\n",
       "        text-align: right;\n",
       "    }\n",
       "</style>\n",
       "<table border=\"1\" class=\"dataframe\">\n",
       "  <thead>\n",
       "    <tr style=\"text-align: right;\">\n",
       "      <th></th>\n",
       "      <th>Causes name</th>\n",
       "      <th>Death Numbers</th>\n",
       "      <th>Entity</th>\n",
       "    </tr>\n",
       "  </thead>\n",
       "  <tbody>\n",
       "    <tr>\n",
       "      <th>0</th>\n",
       "      <td>Meningitis</td>\n",
       "      <td>2933.0</td>\n",
       "      <td>Afghanistan</td>\n",
       "    </tr>\n",
       "    <tr>\n",
       "      <th>1</th>\n",
       "      <td>Neoplasms</td>\n",
       "      <td>15925.0</td>\n",
       "      <td>Afghanistan</td>\n",
       "    </tr>\n",
       "    <tr>\n",
       "      <th>2</th>\n",
       "      <td>Fire, heat, and hot substances</td>\n",
       "      <td>481.0</td>\n",
       "      <td>Afghanistan</td>\n",
       "    </tr>\n",
       "    <tr>\n",
       "      <th>3</th>\n",
       "      <td>Malaria</td>\n",
       "      <td>393.0</td>\n",
       "      <td>Afghanistan</td>\n",
       "    </tr>\n",
       "    <tr>\n",
       "      <th>4</th>\n",
       "      <td>Drowning</td>\n",
       "      <td>2127.0</td>\n",
       "      <td>Afghanistan</td>\n",
       "    </tr>\n",
       "    <tr>\n",
       "      <th>...</th>\n",
       "      <td>...</td>\n",
       "      <td>...</td>\n",
       "      <td>...</td>\n",
       "    </tr>\n",
       "    <tr>\n",
       "      <th>201757</th>\n",
       "      <td>Digestive diseases</td>\n",
       "      <td>4437.0</td>\n",
       "      <td>Zimbabwe</td>\n",
       "    </tr>\n",
       "    <tr>\n",
       "      <th>201758</th>\n",
       "      <td>Acute hepatitis</td>\n",
       "      <td>136.0</td>\n",
       "      <td>Zimbabwe</td>\n",
       "    </tr>\n",
       "    <tr>\n",
       "      <th>201759</th>\n",
       "      <td>Alzheimer's disease and other dementias</td>\n",
       "      <td>812.0</td>\n",
       "      <td>Zimbabwe</td>\n",
       "    </tr>\n",
       "    <tr>\n",
       "      <th>201760</th>\n",
       "      <td>Parkinson's disease</td>\n",
       "      <td>232.0</td>\n",
       "      <td>Zimbabwe</td>\n",
       "    </tr>\n",
       "    <tr>\n",
       "      <th>201761</th>\n",
       "      <td>Number of executions (Amnesty International)</td>\n",
       "      <td>NaN</td>\n",
       "      <td>Zimbabwe</td>\n",
       "    </tr>\n",
       "  </tbody>\n",
       "</table>\n",
       "<p>201762 rows × 3 columns</p>\n",
       "</div>"
      ],
      "text/plain": [
       "                                         Causes name  Death Numbers  \\\n",
       "0                                         Meningitis         2933.0   \n",
       "1                                          Neoplasms        15925.0   \n",
       "2                     Fire, heat, and hot substances          481.0   \n",
       "3                                            Malaria          393.0   \n",
       "4                                           Drowning         2127.0   \n",
       "...                                              ...            ...   \n",
       "201757                            Digestive diseases         4437.0   \n",
       "201758                               Acute hepatitis          136.0   \n",
       "201759       Alzheimer's disease and other dementias          812.0   \n",
       "201760                           Parkinson's disease          232.0   \n",
       "201761  Number of executions (Amnesty International)            NaN   \n",
       "\n",
       "             Entity  \n",
       "0       Afghanistan  \n",
       "1       Afghanistan  \n",
       "2       Afghanistan  \n",
       "3       Afghanistan  \n",
       "4       Afghanistan  \n",
       "...             ...  \n",
       "201757     Zimbabwe  \n",
       "201758     Zimbabwe  \n",
       "201759     Zimbabwe  \n",
       "201760     Zimbabwe  \n",
       "201761     Zimbabwe  \n",
       "\n",
       "[201762 rows x 3 columns]"
      ]
     },
     "execution_count": 69,
     "metadata": {},
     "output_type": "execute_result"
    }
   ],
   "source": [
    "df=df[['Causes name','Death Numbers','Entity']]\n",
    "df"
   ]
  },
  {
   "cell_type": "code",
   "execution_count": 70,
   "id": "c820fcc6",
   "metadata": {},
   "outputs": [
    {
     "data": {
      "text/plain": [
       "True"
      ]
     },
     "execution_count": 70,
     "metadata": {},
     "output_type": "execute_result"
    }
   ],
   "source": [
    "(df.loc[38609,['Causes name']]=='Number of executions (Amnesty International)').bool()\n"
   ]
  },
  {
   "cell_type": "code",
   "execution_count": 74,
   "id": "389bbcde",
   "metadata": {},
   "outputs": [],
   "source": [
    "df.to_csv('..\\Project Files - Tableau - Option 2\\Clean-Output-V3-pandas.csv', index=False)\n"
   ]
  }
 ],
 "metadata": {
  "kernelspec": {
   "display_name": "Python 3 (ipykernel)",
   "language": "python",
   "name": "python3"
  },
  "language_info": {
   "codemirror_mode": {
    "name": "ipython",
    "version": 3
   },
   "file_extension": ".py",
   "mimetype": "text/x-python",
   "name": "python",
   "nbconvert_exporter": "python",
   "pygments_lexer": "ipython3",
   "version": "3.9.13"
  }
 },
 "nbformat": 4,
 "nbformat_minor": 5
}
